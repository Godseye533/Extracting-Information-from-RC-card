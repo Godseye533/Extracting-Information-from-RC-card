{
  "nbformat": 4,
  "nbformat_minor": 0,
  "metadata": {
    "colab": {
      "name": "FINAL_RC.ipynb",
      "version": "0.3.2",
      "provenance": [],
      "collapsed_sections": []
    },
    "kernelspec": {
      "name": "python3",
      "display_name": "Python 3"
    },
    "accelerator": "GPU"
  },
  "cells": [
    {
      "cell_type": "markdown",
      "metadata": {
        "id": "LWbEGfuVCLEy",
        "colab_type": "text"
      },
      "source": [
        "# IMPORTING FILES FROM DRIVE"
      ]
    },
    {
      "cell_type": "code",
      "metadata": {
        "id": "cOdZMDnVdsOz",
        "colab_type": "code",
        "outputId": "dbd08ad0-5197-47c1-cb94-a37b5fe6ac7e",
        "colab": {
          "base_uri": "https://localhost:8080/",
          "height": 34
        }
      },
      "source": [
        "from google.colab import drive\n",
        "drive.mount('/content/drive')"
      ],
      "execution_count": 0,
      "outputs": [
        {
          "output_type": "stream",
          "text": [
            "Drive already mounted at /content/drive; to attempt to forcibly remount, call drive.mount(\"/content/drive\", force_remount=True).\n"
          ],
          "name": "stdout"
        }
      ]
    },
    {
      "cell_type": "markdown",
      "metadata": {
        "id": "bl8m88WwCVmF",
        "colab_type": "text"
      },
      "source": [
        "# IMPORTING BOTO3 AND PICTURES AS BYTES \n",
        "## DECLARING CLIENT ID OF AWS TEXTRACT"
      ]
    },
    {
      "cell_type": "code",
      "metadata": {
        "id": "t4T7ieDPdwER",
        "colab_type": "code",
        "colab": {}
      },
      "source": [
        "import boto3\n",
        "client1 = boto3.client('textract', aws_access_key_id = '' ,  aws_secret_access_key = '', region_name='us-east-2')\n",
        "client2 = boto3.client('textract', aws_access_key_id = '' ,  aws_secret_access_key = '', region_name='us-east-2')\n",
        "client3 = boto3.client('textract', aws_access_key_id = '' ,  aws_secret_access_key = '', region_name='us-east-2')\n",
        "client4 = boto3.client('textract', aws_access_key_id = '' ,  aws_secret_access_key = '', region_name='us-east-2')\n",
        "client5 = boto3.client('textract', aws_access_key_id = '' ,  aws_secret_access_key = '', region_name='us-east-2')\n",
        "client6 = boto3.client('textract', aws_access_key_id = '' ,  aws_secret_access_key = '', region_name='us-east-2')\n",
        "client7 = boto3.client('textract', aws_access_key_id = '' ,  aws_secret_access_key = '', region_name='us-east-2')\n",
        "client8 = boto3.client('textract', aws_access_key_id = '' ,  aws_secret_access_key = '', region_name='us-east-2')\n",
        "client9 = boto3.client('textract', aws_access_key_id = '' ,  aws_secret_access_key = '', region_name='us-east-2')\n",
        "client10 = boto3.client('textract', aws_access_key_id = '' ,  aws_secret_access_key = '', region_name='us-east-2')\n",
        "client11 = boto3.client('textract', aws_access_key_id = '' ,  aws_secret_access_key = '', region_name='us-east-2')\n",
        "client12 = boto3.client('textract', aws_access_key_id = '' ,  aws_secret_access_key = '', region_name='us-east-2')\n",
        "client13 = boto3.client('textract', aws_access_key_id = '' ,  aws_secret_access_key = '', region_name='us-east-2')\n",
        "client14 = boto3.client('textract', aws_access_key_id = '' ,  aws_secret_access_key = '', region_name='us-east-2')\n",
        "client15 = boto3.client('textract', aws_access_key_id = '' ,  aws_secret_access_key = '', region_name='us-east-2')"
      ],
      "execution_count": 0,
      "outputs": []
    },
    {
      "cell_type": "code",
      "metadata": {
        "id": "mEKt-wdzfUiA",
        "colab_type": "code",
        "colab": {}
      },
      "source": [
        "import os\n",
        "data=os.listdir('/content/drive/My Drive/DATASETS/RC')"
      ],
      "execution_count": 0,
      "outputs": []
    },
    {
      "cell_type": "markdown",
      "metadata": {
        "id": "scL4599hCrPD",
        "colab_type": "text"
      },
      "source": [
        "#EXTRACTING ENGINE NO.s"
      ]
    },
    {
      "cell_type": "code",
      "metadata": {
        "id": "EvoDCebgfZB-",
        "colab_type": "code",
        "outputId": "a9c360ad-54ee-404d-9480-aef8acbfc6ca",
        "colab": {
          "base_uri": "https://localhost:8080/",
          "height": 185
        }
      },
      "source": [
        "en=[]\n",
        "eg=['ENGINE NUMBER', 'ENGINENUMBER', 'ENGINENO','ENGINE NO','E NO','ENo','ENO','ENO.','ENO .','E NO.','E NO .','E No','Eno','eno','Engine','Engine.','Engine .','engine','EngineNo','EngineNo.','EngineNo .','Engine No.','Engine No .','Engine No', 'engineno','engine no','engine No']\n",
        "for main in range(10):\n",
        "  f = '/content/drive/My Drive/DATASETS/RC/'+data[main]\n",
        "  with open(f, 'rb') as file:\n",
        "    img_test = file.read()\n",
        "    bytes_test = bytearray(img_test)\n",
        "    print('Image loaded', f)\n",
        "  response = client2.analyze_document(Document={'Bytes': bytes_test}, FeatureTypes=[\"TABLES\",'FORMS'])\n",
        "  w=response['Blocks']\n",
        "  al=[]\n",
        "  aw=[]\n",
        "  for block in w:\n",
        "    if block['BlockType']=='LINE':\n",
        "      al.append(block['Text'])\n",
        "  for i in range(len(al)):\n",
        "    for j in range(len(eg)):\n",
        "      if al[i][:len(eg[j])]==eg[j]:\n",
        "        if al[i][len(eg[j]):]=='':\n",
        "          if al[i+1].isalnum()==True:\n",
        "            en.append(al[i+1])\n",
        "          else:\n",
        "            en.append('None Type')\n",
        "        elif al[i][len(eg[j]):]!='':\n",
        "          en.append(al[i][len(eg[j]):])\n",
        "        else:\n",
        "          print('NONE TYPE')"
      ],
      "execution_count": 0,
      "outputs": [
        {
          "output_type": "stream",
          "text": [
            "Image loaded /content/drive/My Drive/DATASETS/RC/txt_mudit_b11_11597.jpg\n",
            "Image loaded /content/drive/My Drive/DATASETS/RC/txt_mudit_b11_11599.jpg\n",
            "Image loaded /content/drive/My Drive/DATASETS/RC/txt_mudit_b11_12.jpg\n",
            "Image loaded /content/drive/My Drive/DATASETS/RC/txt_mudit_b11_1328.jpg\n",
            "Image loaded /content/drive/My Drive/DATASETS/RC/txt_mudit_b11_1332.jpg\n",
            "Image loaded /content/drive/My Drive/DATASETS/RC/txt_mudit_b11_1330.jpg\n",
            "Image loaded /content/drive/My Drive/DATASETS/RC/txt_mudit_b11_1334.jpg\n",
            "Image loaded /content/drive/My Drive/DATASETS/RC/txt_mudit_b11_1337.jpg\n",
            "Image loaded /content/drive/My Drive/DATASETS/RC/txt_mudit_b11_1339.jpg\n",
            "Image loaded /content/drive/My Drive/DATASETS/RC/txt_mudit_b11_1343.jpg\n"
          ],
          "name": "stdout"
        }
      ]
    },
    {
      "cell_type": "code",
      "metadata": {
        "id": "gjrNVxM4kZmM",
        "colab_type": "code",
        "outputId": "67ca14f4-418f-4d91-e979-6a060d27ac45",
        "colab": {
          "base_uri": "https://localhost:8080/",
          "height": 185
        }
      },
      "source": [
        "en1=[]\n",
        "eg=['ENGINE NUMBER', 'ENGINENUMBER', 'ENGINENO','ENGINE NO','E NO','ENo','ENO','ENO.','ENO .','E NO.','E NO .','E No','Eno','eno','Engine','Engine.','Engine .','engine','EngineNo','EngineNo.','EngineNo .','Engine No.','Engine No .','Engine No', 'engineno','engine no','engine No']\n",
        "for main in range(10,20):\n",
        "  f = '/content/drive/My Drive/DATASETS/RC/'+data[main]\n",
        "  with open(f, 'rb') as file:\n",
        "    img_test = file.read()\n",
        "    bytes_test = bytearray(img_test)\n",
        "    print('Image loaded', f)\n",
        "  response = client3.analyze_document(Document={'Bytes': bytes_test}, FeatureTypes=[\"TABLES\",'FORMS'])\n",
        "  w=response['Blocks']\n",
        "  al=[]\n",
        "  aw=[]\n",
        "  for block in w:\n",
        "    if block['BlockType']=='LINE':\n",
        "      al.append(block['Text'])\n",
        "  for i in range(len(al)):\n",
        "    for j in range(len(eg)):\n",
        "      if al[i][:len(eg[j])]==eg[j]:\n",
        "        if al[i][len(eg[j]):]=='':\n",
        "          if al[i+1].isalnum()==True:\n",
        "            en1.append(al[i+1])\n",
        "          else:\n",
        "            en1.append('None Type')\n",
        "        elif al[i][len(eg[j]):]!='':\n",
        "          en1.append(al[i][len(eg[j]):])\n",
        "        else:\n",
        "          print('NONE TYPE')"
      ],
      "execution_count": 0,
      "outputs": [
        {
          "output_type": "stream",
          "text": [
            "Image loaded /content/drive/My Drive/DATASETS/RC/txt_mudit_b11_1347.jpg\n",
            "Image loaded /content/drive/My Drive/DATASETS/RC/txt_mudit_b11_1354.jpg\n",
            "Image loaded /content/drive/My Drive/DATASETS/RC/txt_mudit_b11_1361.jpg\n",
            "Image loaded /content/drive/My Drive/DATASETS/RC/txt_mudit_b11_1355.jpg\n",
            "Image loaded /content/drive/My Drive/DATASETS/RC/txt_mudit_b11_1363.jpg\n",
            "Image loaded /content/drive/My Drive/DATASETS/RC/txt_mudit_b11_1362.jpg\n",
            "Image loaded /content/drive/My Drive/DATASETS/RC/txt_mudit_b11_1365.jpg\n",
            "Image loaded /content/drive/My Drive/DATASETS/RC/txt_mudit_b11_1364.jpg\n",
            "Image loaded /content/drive/My Drive/DATASETS/RC/txt_mudit_b11_1369.jpg\n",
            "Image loaded /content/drive/My Drive/DATASETS/RC/txt_mudit_b11_1524.jpg\n"
          ],
          "name": "stdout"
        }
      ]
    },
    {
      "cell_type": "code",
      "metadata": {
        "id": "OoKrYhsglCBi",
        "colab_type": "code",
        "outputId": "9e7a03db-fa9a-4f81-a128-c05c5c27c274",
        "colab": {
          "base_uri": "https://localhost:8080/",
          "height": 286
        }
      },
      "source": [
        "en2=[]\n",
        "eg=['ENGINE NUMBER', 'ENGINENUMBER', 'ENGINENO','ENGINE NO','E NO','ENo','ENO','ENO.','ENO .','E NO.','E NO .','E No','Eno','eno','Engine','Engine.','Engine .','engine','EngineNo','EngineNo.','EngineNo .','Engine No.','Engine No .','Engine No', 'engineno','engine no','engine No']\n",
        "for main in range(20,36):\n",
        "  f = '/content/drive/My Drive/DATASETS/RC/'+data[main]\n",
        "  with open(f, 'rb') as file:\n",
        "    img_test = file.read()\n",
        "    bytes_test = bytearray(img_test)\n",
        "    print('Image loaded', f)\n",
        "  response = client4.analyze_document(Document={'Bytes': bytes_test}, FeatureTypes=[\"TABLES\",'FORMS'])\n",
        "  w=response['Blocks']\n",
        "  al=[]\n",
        "  aw=[]\n",
        "  for block in w:\n",
        "    if block['BlockType']=='LINE':\n",
        "      al.append(block['Text'])\n",
        "  for i in range(len(al)):\n",
        "    for j in range(len(eg)):\n",
        "      if al[i][:len(eg[j])]==eg[j]:\n",
        "        if al[i][len(eg[j]):]=='':\n",
        "          if al[i+1].isalnum()==True:\n",
        "            en2.append(al[i+1])\n",
        "          else:\n",
        "            en2.append('None Type')\n",
        "        elif al[i][len(eg[j]):]!='':\n",
        "          en2.append(al[i][len(eg[j]):])\n",
        "        else:\n",
        "          print('NONE TYPE')"
      ],
      "execution_count": 0,
      "outputs": [
        {
          "output_type": "stream",
          "text": [
            "Image loaded /content/drive/My Drive/DATASETS/RC/txt_mudit_b11_1529.jpg\n",
            "Image loaded /content/drive/My Drive/DATASETS/RC/txt_mudit_b11_1534.jpg\n",
            "Image loaded /content/drive/My Drive/DATASETS/RC/txt_mudit_b11_1536.jpg\n",
            "Image loaded /content/drive/My Drive/DATASETS/RC/txt_mudit_b11_1535.jpg\n",
            "Image loaded /content/drive/My Drive/DATASETS/RC/txt_mudit_b11_1539.jpg\n",
            "Image loaded /content/drive/My Drive/DATASETS/RC/txt_mudit_b11_439.jpg\n",
            "Image loaded /content/drive/My Drive/DATASETS/RC/txt_mudit_b11_746.jpg\n",
            "Image loaded /content/drive/My Drive/DATASETS/RC/txt_mudit_b11_961.jpg\n",
            "Image loaded /content/drive/My Drive/DATASETS/RC/txt_mudit_b11_480.jpg\n",
            "Image loaded /content/drive/My Drive/DATASETS/RC/txt_mudit_b8_1_513.jpg\n",
            "Image loaded /content/drive/My Drive/DATASETS/RC/txt_mudit_b8_1_740.jpg\n",
            "Image loaded /content/drive/My Drive/DATASETS/RC/txt_mudit_b8_1_742.jpg\n",
            "Image loaded /content/drive/My Drive/DATASETS/RC/txt_mudit_b8_1_741.jpg\n",
            "Image loaded /content/drive/My Drive/DATASETS/RC/txt_mudit_b8_1_545.jpg\n",
            "Image loaded /content/drive/My Drive/DATASETS/RC/txt_mudit_b8_1_546.jpg\n",
            "Image loaded /content/drive/My Drive/DATASETS/RC/txt_mudit_b8_1_554.jpg\n"
          ],
          "name": "stdout"
        }
      ]
    },
    {
      "cell_type": "code",
      "metadata": {
        "id": "bwjuF2F6liFm",
        "colab_type": "code",
        "outputId": "d71d8448-3489-4f9c-8804-a0d8b0127381",
        "colab": {
          "base_uri": "https://localhost:8080/",
          "height": 185
        }
      },
      "source": [
        "en3=[]\n",
        "eg=['ENGINE NUMBER', 'ENGINENUMBER', 'ENGINENO','ENGINE NO','E NO','ENo','ENO','ENO.','ENO .','E NO.','E NO .','E No','Eno','eno','Engine','Engine.','Engine .','engine','EngineNo','EngineNo.','EngineNo .','Engine No.','Engine No .','Engine No', 'engineno','engine no','engine No']\n",
        "for main in range(36,46):\n",
        "  f = '/content/drive/My Drive/DATASETS/RC/'+data[main]\n",
        "  with open(f, 'rb') as file:\n",
        "    img_test = file.read()\n",
        "    bytes_test = bytearray(img_test)\n",
        "    print('Image loaded', f)\n",
        "  response = client5.analyze_document(Document={'Bytes': bytes_test}, FeatureTypes=[\"TABLES\",'FORMS'])\n",
        "  w=response['Blocks']\n",
        "  al=[]\n",
        "  aw=[]\n",
        "  for block in w:\n",
        "    if block['BlockType']=='LINE':\n",
        "      al.append(block['Text'])\n",
        "  for i in range(len(al)):\n",
        "    for j in range(len(eg)):\n",
        "      if al[i][:len(eg[j])]==eg[j]:\n",
        "        if al[i][len(eg[j]):]=='':\n",
        "          if al[i+1].isalnum()==True:\n",
        "            en3.append(al[i+1])\n",
        "          else:\n",
        "            en3.append('None Type')\n",
        "        elif al[i][len(eg[j]):]!='':\n",
        "          en3.append(al[i][len(eg[j]):])\n",
        "        else:\n",
        "          print('NONE TYPE')"
      ],
      "execution_count": 0,
      "outputs": [
        {
          "output_type": "stream",
          "text": [
            "Image loaded /content/drive/My Drive/DATASETS/RC/txt_mudit_b8_1_555.jpg\n",
            "Image loaded /content/drive/My Drive/DATASETS/RC/txt_mudit_b8_1_571.jpg\n",
            "Image loaded /content/drive/My Drive/DATASETS/RC/txt_mudit_b8_1_574.jpg\n",
            "Image loaded /content/drive/My Drive/DATASETS/RC/txt_mudit_b8_1_573.jpg\n",
            "Image loaded /content/drive/My Drive/DATASETS/RC/txt_mudit_b8_1_806.jpg\n",
            "Image loaded /content/drive/My Drive/DATASETS/RC/txt_mudit_b8_1_807.jpg\n",
            "Image loaded /content/drive/My Drive/DATASETS/RC/txt_mudit_b8_1_808.jpg\n",
            "Image loaded /content/drive/My Drive/DATASETS/RC/txt_mudit_b8_1_854.jpg\n",
            "Image loaded /content/drive/My Drive/DATASETS/RC/txt_mudit_b8_1_855.jpg\n",
            "Image loaded /content/drive/My Drive/DATASETS/RC/txt_mudit_b8_2_213.jpg\n"
          ],
          "name": "stdout"
        }
      ]
    },
    {
      "cell_type": "code",
      "metadata": {
        "id": "s5ksyc9Gl_RI",
        "colab_type": "code",
        "colab": {}
      },
      "source": [
        "engine=[]\n",
        "engine=en+en1+en2+en3"
      ],
      "execution_count": 0,
      "outputs": []
    },
    {
      "cell_type": "code",
      "metadata": {
        "id": "Yp-Ysv21mEvG",
        "colab_type": "code",
        "outputId": "b38bdefd-b807-47e7-872b-b866f426591b",
        "colab": {
          "base_uri": "https://localhost:8080/",
          "height": 34
        }
      },
      "source": [
        "len(engine)"
      ],
      "execution_count": 0,
      "outputs": [
        {
          "output_type": "execute_result",
          "data": {
            "text/plain": [
              "45"
            ]
          },
          "metadata": {
            "tags": []
          },
          "execution_count": 26
        }
      ]
    },
    {
      "cell_type": "markdown",
      "metadata": {
        "id": "bjUxIW_XDDvJ",
        "colab_type": "text"
      },
      "source": [
        "# EXTRACTING NAMES\n",
        "## cropping images"
      ]
    },
    {
      "cell_type": "code",
      "metadata": {
        "id": "hcs2ux3TmGJf",
        "colab_type": "code",
        "colab": {}
      },
      "source": [
        "from PIL import Image\n",
        "def crop(image_path, coords, saved_location):\n",
        "    image_obj = Image.open(image_path)\n",
        "    cropped_image = image_obj.crop(coords)\n",
        "    cropped_image.save(saved_location)\n",
        "    cropped_image.show()"
      ],
      "execution_count": 0,
      "outputs": []
    },
    {
      "cell_type": "code",
      "metadata": {
        "id": "wy-nWzKfmNaC",
        "colab_type": "code",
        "outputId": "7664c4af-db1e-407c-b5f4-6e40ef6503e7",
        "colab": {
          "base_uri": "https://localhost:8080/",
          "height": 521
        }
      },
      "source": [
        "nam=[]\n",
        "for main in range(15):\n",
        "  image = '/content/drive/My Drive/DATASETS/RC/'+data[main]\n",
        "  with open(f, 'rb') as file:\n",
        "    img_test = file.read()\n",
        "    bytes_test = bytearray(img_test)\n",
        "    print('Image loaded', image)\n",
        "  from PIL import Image\n",
        "  res=[]\n",
        "  im = Image.open(image)\n",
        "  width, height = im.size\n",
        "  res.append(width)\n",
        "  res.append(height)\n",
        "  crop(image, (res[0]*4.8/100, res[1]*6.5/100, res[0]*90/100, res[1]*59/100), 'cropped.jpg')\n",
        "  f = '/content/cropped.jpg'\n",
        "  with open(f, 'rb') as file:\n",
        "    img_test= file.read()\n",
        "    bytes_test = bytearray(img_test)\n",
        "    print('Image loaded', f)\n",
        "  response = client3.analyze_document(Document={'Bytes': bytes_test}, FeatureTypes=[\"TABLES\",'FORMS'])\n",
        "  block=response['Blocks']\n",
        "  a=[]\n",
        "  for i in block:\n",
        "    if i['BlockType']=='LINE':\n",
        "      a.append(i['Text'])\n",
        "  for i in range(len(a)):\n",
        "    nme=['NAME','NAME:','NAME :','NAME   :','NAME    :','Name','Name:','Name :','Name  :','Name   :','Name    :','Name.','Name .','Name . ','Name  .','Name  . ',\"Owner's Name\",'Name&Address','Name & Address',\"Ownr's Wame\",\"Owrier's Narne\"] \n",
        "    for j in range(len(nme)):\n",
        "      if a[i][:len(nme[j])]==nme[j]:\n",
        "        if a[i][len(nme[j]):]!='':\n",
        "          nam.append(a[i][len(nme[j]):])\n",
        "        elif a[i][len(nme[j]):]=='':\n",
        "          if a[i+1].isdigit()==False and a[i+1].isupper()==True :\n",
        "            nam.append(a[i+1])\n",
        "          elif a[i+2].isdigit()==False and a[i+2].isupper()==True :\n",
        "            nam.append(a[i+2])\n",
        "        else:\n",
        "          nam.append('NONE TYPE')\n",
        "\n",
        "\n"
      ],
      "execution_count": 0,
      "outputs": [
        {
          "output_type": "stream",
          "text": [
            "Image loaded /content/drive/My Drive/DATASETS/RC/txt_mudit_b11_11597.jpg\n",
            "Image loaded /content/cropped.jpg\n",
            "Image loaded /content/drive/My Drive/DATASETS/RC/txt_mudit_b11_11599.jpg\n",
            "Image loaded /content/cropped.jpg\n",
            "Image loaded /content/drive/My Drive/DATASETS/RC/txt_mudit_b11_12.jpg\n",
            "Image loaded /content/cropped.jpg\n",
            "Image loaded /content/drive/My Drive/DATASETS/RC/txt_mudit_b11_1328.jpg\n",
            "Image loaded /content/cropped.jpg\n",
            "Image loaded /content/drive/My Drive/DATASETS/RC/txt_mudit_b11_1332.jpg\n",
            "Image loaded /content/cropped.jpg\n",
            "Image loaded /content/drive/My Drive/DATASETS/RC/txt_mudit_b11_1330.jpg\n",
            "Image loaded /content/cropped.jpg\n",
            "Image loaded /content/drive/My Drive/DATASETS/RC/txt_mudit_b11_1334.jpg\n",
            "Image loaded /content/cropped.jpg\n",
            "Image loaded /content/drive/My Drive/DATASETS/RC/txt_mudit_b11_1337.jpg\n",
            "Image loaded /content/cropped.jpg\n",
            "Image loaded /content/drive/My Drive/DATASETS/RC/txt_mudit_b11_1339.jpg\n",
            "Image loaded /content/cropped.jpg\n",
            "Image loaded /content/drive/My Drive/DATASETS/RC/txt_mudit_b11_1343.jpg\n",
            "Image loaded /content/cropped.jpg\n",
            "Image loaded /content/drive/My Drive/DATASETS/RC/txt_mudit_b11_1347.jpg\n",
            "Image loaded /content/cropped.jpg\n",
            "Image loaded /content/drive/My Drive/DATASETS/RC/txt_mudit_b11_1354.jpg\n",
            "Image loaded /content/cropped.jpg\n",
            "Image loaded /content/drive/My Drive/DATASETS/RC/txt_mudit_b11_1361.jpg\n",
            "Image loaded /content/cropped.jpg\n",
            "Image loaded /content/drive/My Drive/DATASETS/RC/txt_mudit_b11_1355.jpg\n",
            "Image loaded /content/cropped.jpg\n",
            "Image loaded /content/drive/My Drive/DATASETS/RC/txt_mudit_b11_1363.jpg\n",
            "Image loaded /content/cropped.jpg\n"
          ],
          "name": "stdout"
        }
      ]
    },
    {
      "cell_type": "code",
      "metadata": {
        "id": "ofJqoyF2mZuQ",
        "colab_type": "code",
        "outputId": "5966bed7-e17f-4dfb-d837-be5c09a51c91",
        "colab": {
          "base_uri": "https://localhost:8080/",
          "height": 34
        }
      },
      "source": [
        "len(nam)"
      ],
      "execution_count": 0,
      "outputs": [
        {
          "output_type": "execute_result",
          "data": {
            "text/plain": [
              "14"
            ]
          },
          "metadata": {
            "tags": []
          },
          "execution_count": 37
        }
      ]
    },
    {
      "cell_type": "code",
      "metadata": {
        "id": "ZriesSjLn3B1",
        "colab_type": "code",
        "outputId": "182c60a8-fc96-41f6-bec3-759df0d75fe1",
        "colab": {
          "base_uri": "https://localhost:8080/",
          "height": 521
        }
      },
      "source": [
        "nam1=[]\n",
        "for main in range(15,30):\n",
        "  image = '/content/drive/My Drive/DATASETS/RC/'+data[main]\n",
        "  with open(f, 'rb') as file:\n",
        "    img_test = file.read()\n",
        "    bytes_test = bytearray(img_test)\n",
        "    print('Image loaded', image)\n",
        "  from PIL import Image\n",
        "  res=[]\n",
        "  im = Image.open(image)\n",
        "  width, height = im.size\n",
        "  res.append(width)\n",
        "  res.append(height)\n",
        "  crop(image, (res[0]*4.8/100, res[1]*6.5/100, res[0]*90/100, res[1]*59/100), 'cropped.jpg')\n",
        "  f = '/content/cropped.jpg'\n",
        "  with open(f, 'rb') as file:\n",
        "    img_test= file.read()\n",
        "    bytes_test = bytearray(img_test)\n",
        "    print('Image loaded', f)\n",
        "  response = client4.analyze_document(Document={'Bytes': bytes_test}, FeatureTypes=[\"TABLES\",'FORMS'])\n",
        "  block=response['Blocks']\n",
        "  a=[]\n",
        "  for i in block:\n",
        "    if i['BlockType']=='LINE':\n",
        "      a.append(i['Text'])\n",
        "  for i in range(len(a)):\n",
        "    nme=['NAME','NAME:','NAME :','NAME   :','NAME    :','Name','Name:','Name :','Name  :','Name   :','Name    :','Name.','Name .','Name . ','Name  .','Name  . ',\"Owner's Name\",'Name&Address','Name & Address',\"Ownr's Wame\",\"Owrier's Narne\"] \n",
        "    for j in range(len(nme)):\n",
        "      if a[i][:len(nme[j])]==nme[j]:\n",
        "        if a[i][len(nme[j]):]!='':\n",
        "          nam1.append(a[i][len(nme[j]):])\n",
        "        elif a[i][len(nme[j]):]=='':\n",
        "          if a[i+1].isdigit()==False and a[i+1].isupper()==True :\n",
        "            nam1.append(a[i+1])\n",
        "          elif a[i+2].isdigit()==False and a[i+2].isupper()==True :\n",
        "            nam1.append(a[i+2])\n",
        "        else:\n",
        "          nam1.append('NONE TYPE')\n",
        "\n",
        "\n"
      ],
      "execution_count": 0,
      "outputs": [
        {
          "output_type": "stream",
          "text": [
            "Image loaded /content/drive/My Drive/DATASETS/RC/txt_mudit_b11_1362.jpg\n",
            "Image loaded /content/cropped.jpg\n",
            "Image loaded /content/drive/My Drive/DATASETS/RC/txt_mudit_b11_1365.jpg\n",
            "Image loaded /content/cropped.jpg\n",
            "Image loaded /content/drive/My Drive/DATASETS/RC/txt_mudit_b11_1364.jpg\n",
            "Image loaded /content/cropped.jpg\n",
            "Image loaded /content/drive/My Drive/DATASETS/RC/txt_mudit_b11_1369.jpg\n",
            "Image loaded /content/cropped.jpg\n",
            "Image loaded /content/drive/My Drive/DATASETS/RC/txt_mudit_b11_1524.jpg\n",
            "Image loaded /content/cropped.jpg\n",
            "Image loaded /content/drive/My Drive/DATASETS/RC/txt_mudit_b11_1529.jpg\n",
            "Image loaded /content/cropped.jpg\n",
            "Image loaded /content/drive/My Drive/DATASETS/RC/txt_mudit_b11_1534.jpg\n",
            "Image loaded /content/cropped.jpg\n",
            "Image loaded /content/drive/My Drive/DATASETS/RC/txt_mudit_b11_1536.jpg\n",
            "Image loaded /content/cropped.jpg\n",
            "Image loaded /content/drive/My Drive/DATASETS/RC/txt_mudit_b11_1535.jpg\n",
            "Image loaded /content/cropped.jpg\n",
            "Image loaded /content/drive/My Drive/DATASETS/RC/txt_mudit_b11_1539.jpg\n",
            "Image loaded /content/cropped.jpg\n",
            "Image loaded /content/drive/My Drive/DATASETS/RC/txt_mudit_b11_439.jpg\n",
            "Image loaded /content/cropped.jpg\n",
            "Image loaded /content/drive/My Drive/DATASETS/RC/txt_mudit_b11_746.jpg\n",
            "Image loaded /content/cropped.jpg\n",
            "Image loaded /content/drive/My Drive/DATASETS/RC/txt_mudit_b11_961.jpg\n",
            "Image loaded /content/cropped.jpg\n",
            "Image loaded /content/drive/My Drive/DATASETS/RC/txt_mudit_b11_480.jpg\n",
            "Image loaded /content/cropped.jpg\n",
            "Image loaded /content/drive/My Drive/DATASETS/RC/txt_mudit_b8_1_513.jpg\n",
            "Image loaded /content/cropped.jpg\n"
          ],
          "name": "stdout"
        }
      ]
    },
    {
      "cell_type": "code",
      "metadata": {
        "id": "f4rkL6aPrZjk",
        "colab_type": "code",
        "outputId": "4db6d146-7ffc-4419-da48-a88664c927e4",
        "colab": {
          "base_uri": "https://localhost:8080/",
          "height": 235
        }
      },
      "source": [
        "nam1"
      ],
      "execution_count": 0,
      "outputs": [
        {
          "output_type": "execute_result",
          "data": {
            "text/plain": [
              "['KUMUDHA ARULDAS',\n",
              " 'CHANDRA BHUWAN KUMAR',\n",
              " 'KARAN KAPOOR',\n",
              " 'MEGHNA AGGARWAL',\n",
              " 'HITESH NAGAR',\n",
              " 'MAMTA GOEL',\n",
              " 'KARISHMA DHAWAN',\n",
              " 'SUNDER LAL DUA',\n",
              " 'MANJULA VERMA',\n",
              " ' PARIKSHIT SINGHAL',\n",
              " 'MANOJ VERMA',\n",
              " 'RAJNISH JAIN',\n",
              " 'MR. KAMAL BHOLA']"
            ]
          },
          "metadata": {
            "tags": []
          },
          "execution_count": 38
        }
      ]
    },
    {
      "cell_type": "code",
      "metadata": {
        "id": "5A78qcOnq9U5",
        "colab_type": "code",
        "outputId": "6f1165e0-3e58-4bc5-ebda-3ba05ea86dea",
        "colab": {
          "base_uri": "https://localhost:8080/",
          "height": 34
        }
      },
      "source": [
        "len(nam1)"
      ],
      "execution_count": 0,
      "outputs": [
        {
          "output_type": "execute_result",
          "data": {
            "text/plain": [
              "13"
            ]
          },
          "metadata": {
            "tags": []
          },
          "execution_count": 36
        }
      ]
    },
    {
      "cell_type": "code",
      "metadata": {
        "id": "DFt-0F4PqF16",
        "colab_type": "code",
        "outputId": "fefe9a38-6597-4f7c-9737-90f917209553",
        "colab": {
          "base_uri": "https://localhost:8080/",
          "height": 554
        }
      },
      "source": [
        "nam2=[]\n",
        "for main in range(30,46):\n",
        "  image = '/content/drive/My Drive/DATASETS/RC/'+data[main]\n",
        "  with open(f, 'rb') as file:\n",
        "    img_test = file.read()\n",
        "    bytes_test = bytearray(img_test)\n",
        "    print('Image loaded', image)\n",
        "  from PIL import Image\n",
        "  res=[]\n",
        "  im = Image.open(image)\n",
        "  width, height = im.size\n",
        "  res.append(width)\n",
        "  res.append(height)\n",
        "  crop(image, (res[0]*4.8/100, res[1]*6.5/100, res[0]*90/100, res[1]*59/100), 'cropped.jpg')\n",
        "  f = '/content/cropped.jpg'\n",
        "  with open(f, 'rb') as file:\n",
        "    img_test= file.read()\n",
        "    bytes_test = bytearray(img_test)\n",
        "    print('Image loaded', f)\n",
        "  response = client5.analyze_document(Document={'Bytes': bytes_test}, FeatureTypes=[\"TABLES\",'FORMS'])\n",
        "  block=response['Blocks']\n",
        "  a=[]\n",
        "  for i in block:\n",
        "    if i['BlockType']=='LINE':\n",
        "      a.append(i['Text'])\n",
        "  for i in range(len(a)):\n",
        "    nme=['NAME','NAME:','NAME :','NAME   :','NAME    :','Name','Name:','Name :','Name  :','Name   :','Name    :','Name.','Name .','Name . ','Name  .','Name  . ',\"Owner's Name\",'Name&Address','Name & Address',\"Ownr's Wame\",\"Owrier's Narne\"] \n",
        "    for j in range(len(nme)):\n",
        "      if a[i][:len(nme[j])]==nme[j]:\n",
        "        if a[i][len(nme[j]):]!='':\n",
        "          nam2.append(a[i][len(nme[j]):])\n",
        "        elif a[i][len(nme[j]):]=='':\n",
        "          if a[i+1].isdigit()==False and a[i+1].isupper()==True :\n",
        "            nam2.append(a[i+1])\n",
        "          elif a[i+2].isdigit()==False and a[i+2].isupper()==True :\n",
        "            nam2.append(a[i+2])\n",
        "        else:\n",
        "          nam2.append('NONE TYPE')\n",
        "\n",
        "\n"
      ],
      "execution_count": 0,
      "outputs": [
        {
          "output_type": "stream",
          "text": [
            "Image loaded /content/drive/My Drive/DATASETS/RC/txt_mudit_b8_1_740.jpg\n",
            "Image loaded /content/cropped.jpg\n",
            "Image loaded /content/drive/My Drive/DATASETS/RC/txt_mudit_b8_1_742.jpg\n",
            "Image loaded /content/cropped.jpg\n",
            "Image loaded /content/drive/My Drive/DATASETS/RC/txt_mudit_b8_1_741.jpg\n",
            "Image loaded /content/cropped.jpg\n",
            "Image loaded /content/drive/My Drive/DATASETS/RC/txt_mudit_b8_1_545.jpg\n",
            "Image loaded /content/cropped.jpg\n",
            "Image loaded /content/drive/My Drive/DATASETS/RC/txt_mudit_b8_1_546.jpg\n",
            "Image loaded /content/cropped.jpg\n",
            "Image loaded /content/drive/My Drive/DATASETS/RC/txt_mudit_b8_1_554.jpg\n",
            "Image loaded /content/cropped.jpg\n",
            "Image loaded /content/drive/My Drive/DATASETS/RC/txt_mudit_b8_1_555.jpg\n",
            "Image loaded /content/cropped.jpg\n",
            "Image loaded /content/drive/My Drive/DATASETS/RC/txt_mudit_b8_1_571.jpg\n",
            "Image loaded /content/cropped.jpg\n",
            "Image loaded /content/drive/My Drive/DATASETS/RC/txt_mudit_b8_1_574.jpg\n",
            "Image loaded /content/cropped.jpg\n",
            "Image loaded /content/drive/My Drive/DATASETS/RC/txt_mudit_b8_1_573.jpg\n",
            "Image loaded /content/cropped.jpg\n",
            "Image loaded /content/drive/My Drive/DATASETS/RC/txt_mudit_b8_1_806.jpg\n",
            "Image loaded /content/cropped.jpg\n",
            "Image loaded /content/drive/My Drive/DATASETS/RC/txt_mudit_b8_1_807.jpg\n",
            "Image loaded /content/cropped.jpg\n",
            "Image loaded /content/drive/My Drive/DATASETS/RC/txt_mudit_b8_1_808.jpg\n",
            "Image loaded /content/cropped.jpg\n",
            "Image loaded /content/drive/My Drive/DATASETS/RC/txt_mudit_b8_1_854.jpg\n",
            "Image loaded /content/cropped.jpg\n",
            "Image loaded /content/drive/My Drive/DATASETS/RC/txt_mudit_b8_1_855.jpg\n",
            "Image loaded /content/cropped.jpg\n",
            "Image loaded /content/drive/My Drive/DATASETS/RC/txt_mudit_b8_2_213.jpg\n",
            "Image loaded /content/cropped.jpg\n"
          ],
          "name": "stdout"
        }
      ]
    },
    {
      "cell_type": "code",
      "metadata": {
        "id": "8-Ztj41bqW8s",
        "colab_type": "code",
        "colab": {}
      },
      "source": [
        "nm=nam+nam1+nam2"
      ],
      "execution_count": 0,
      "outputs": []
    },
    {
      "cell_type": "code",
      "metadata": {
        "id": "049RG92Tqydj",
        "colab_type": "code",
        "outputId": "a183a96f-ed66-4428-ec79-c7150614b149",
        "colab": {
          "base_uri": "https://localhost:8080/",
          "height": 34
        }
      },
      "source": [
        "len(nm)"
      ],
      "execution_count": 0,
      "outputs": [
        {
          "output_type": "execute_result",
          "data": {
            "text/plain": [
              "42"
            ]
          },
          "metadata": {
            "tags": []
          },
          "execution_count": 34
        }
      ]
    },
    {
      "cell_type": "markdown",
      "metadata": {
        "id": "aML6YKx1DZWf",
        "colab_type": "text"
      },
      "source": [
        "# EXTRACTING MANUFACTURING DATES & REGISTRATION DATES\n",
        "## using datefinder function"
      ]
    },
    {
      "cell_type": "code",
      "metadata": {
        "id": "yBCF8969qzn7",
        "colab_type": "code",
        "colab": {}
      },
      "source": [
        "import re\n",
        "from datetime import *\n",
        "from datetime import datetime,date"
      ],
      "execution_count": 0,
      "outputs": []
    },
    {
      "cell_type": "code",
      "metadata": {
        "id": "Gr95mUubuSVV",
        "colab_type": "code",
        "colab": {}
      },
      "source": [
        "def date_finder(z):\n",
        " date_dash = []\n",
        " date_slash = []\n",
        " for i in z:\n",
        "   if re.search(r'\\d{2}/\\d{2}/\\d{4}', i):\n",
        "     date_slash.append(re.search(r'\\d{2}/\\d{2}/\\d{4}', i).group())\n",
        "   elif re.search(r'\\d{2}-\\d{2}-\\d{4}',i):\n",
        "     date_dash.append(re.search(r'\\d{2}-\\d{2}-\\d{4}', i).group())\n",
        "   elif re.search(r'\\d{2}-\\d{4}',i):\n",
        "     date_dash.append(re.search(r'\\d{2}-\\d{4}', i).group())\n",
        "   elif re.search(r'\\d{2}/\\d{4}',i):\n",
        "     date_slash.append(re.search(r'\\d{2}/\\d{4}', i).group())\n",
        " if len(date_slash)>0:\n",
        "   return(date_slash,1)\n",
        " elif (len(date_dash))>0:\n",
        "   return(date_dash,2)\n",
        " else:\n",
        "   return([],3)\n"
      ],
      "execution_count": 0,
      "outputs": []
    },
    {
      "cell_type": "code",
      "metadata": {
        "id": "-kaNlw5suWsO",
        "colab_type": "code",
        "outputId": "1106217a-9b18-4faa-c4a8-a25f52ef31e4",
        "colab": {
          "base_uri": "https://localhost:8080/",
          "height": 269
        }
      },
      "source": [
        "reg_upto1=[]\n",
        "reg_from1=[]\n",
        "manu1=[]\n",
        "for main in range(15):\n",
        "  f = '/content/drive/My Drive/DATASETS/RC/'+data[main]\n",
        "  with open(f, 'rb') as file:\n",
        "    img_test = file.read()\n",
        "    bytes_test = bytearray(img_test)\n",
        "    print('Image loaded', f)\n",
        "  response = client6.analyze_document(Document={'Bytes': bytes_test}, FeatureTypes=[\"TABLES\",'FORMS'])\n",
        "  block=response['Blocks']\n",
        "  al=[]\n",
        "  for i in block:\n",
        "    if i['BlockType']=='WORD':\n",
        "      al.append(i['Text'])\n",
        "  k,a= date_finder(al)\n",
        "  l = []\n",
        "  if a == 1:\n",
        "    if len(k) == 3:\n",
        "      for i in range(len(k)):\n",
        "        if len(k[i])>7:\n",
        "          d1, m1, y1 = [int(x) for x in k[i].split('/')]\n",
        "          l.append(date(y1, m1, d1))\n",
        "        else:\n",
        "          m2, y2 = [int(x) for x in k[i].split('/')]\n",
        "          d = 1\n",
        "          l.append(date(y2, m2, d))\n",
        "      l.sort()\n",
        "      reg_upto1.append(l[-1].strftime('%d/%m/%Y'))\n",
        "      reg_from1.append(l[1].strftime('%d/%m/%Y'))\n",
        "      manu1.append(l[0].strftime('%d/%m/%Y'))\n",
        "    elif len(k) == 2:\n",
        "      for i in range(len(k)):\n",
        "        if len(k[i])>7:\n",
        "          d1, m1, y1 = [int(x) for x in k[i].split('/')]\n",
        "          l.append(date(y1, m1, d1))\n",
        "        else:\n",
        "          m2, y2 = [int(x) for x in k[i].split('/')]\n",
        "          d = 1\n",
        "          l.append(date(y2, m2, d))\n",
        "      l.sort()\n",
        "      if l[1]>datetime.today().date():\n",
        "        reg_upto1.append(l[1].strftime('%d/%m/%Y'))\n",
        "        reg_from1.append(l[0].strftime('%d/%m/%Y'))\n",
        "        manu1.append(None)\n",
        "      else:\n",
        "        reg_upto1.append('None')\n",
        "        reg_from1.append(l[1].strftime('%d/%m/%Y'))\n",
        "        manu1.append(l[0].strftime('%d/%m/%Y'))\n",
        "    else:\n",
        "      for i in range(len(k)):\n",
        "        if len(k[i])>7:\n",
        "          d1, m1, y1 = [int(x) for x in k[i].split('/')]\n",
        "          l.append(date(y1, m1, d1))\n",
        "        else:\n",
        "          m2, y2 = [int(x) for x in k[i].split('/')]\n",
        "          d = 1\n",
        "          l.append(date(y2, m2, d))\n",
        "      reg_upto1.append('None')\n",
        "      reg_from1.append('None')\n",
        "      manu1.append(l[0].strftime('%d/%m/%Y'))\n",
        "  elif a == 2:\n",
        "    if len(k) == 3:\n",
        "      for i in range(len(k)):\n",
        "        if len(k[i])>7:\n",
        "          d1, m1, y1 = [int(x) for x in k[i].split('-')]\n",
        "          l.append(date(y1, m1, d1))\n",
        "        else:\n",
        "          m2, y2 = [int(x) for x in k[i].split('-')]\n",
        "          d = 1\n",
        "          l.append(date(y2, m2, d))\n",
        "      l.sort()\n",
        "      reg_upto1.append(l[-1].strftime('%d/%m/%Y'))\n",
        "      reg_from1.append(l[1].strftime('%d/%m/%Y'))\n",
        "      manu1.append(l[0].strftime('%d/%m/%Y'))\n",
        "    elif len(k) == 2:\n",
        "      for i in range(len(k)):\n",
        "        if len(k[i])>7:\n",
        "          d1, m1, y1 = [int(x) for x in k[i].split('-')]\n",
        "          l.append(date(y1, m1, d1))\n",
        "        else:\n",
        "          m2, y2 = [int(x) for x in k[i].split('-')]\n",
        "          d = 1\n",
        "          l.append(date(y2, m2, d))\n",
        "      l.sort()\n",
        "      if l[1]>datetime.today().date():\n",
        "        reg_upto1.append(l[1].strftime('%d/%m/%Y'))\n",
        "        reg_from1.append(l[0].strftime('%d/%m/%Y'))\n",
        "        manu1.append(None)\n",
        "      else:\n",
        "        reg_upto1.append('None')\n",
        "        reg_from1.append(l[1].strftime('%d/%m/%Y'))\n",
        "        manu1.append(l[0].strftime('%d/%m/%Y'))\n",
        "    else:\n",
        "      for i in range(len(k)):\n",
        "        if len(k[i])>7:\n",
        "          d1, m1, y1 = [int(x) for x in k[i].split('-')]\n",
        "          l.append(date(y1, m1, d1))\n",
        "        else:\n",
        "          m2, y2 = [int(x) for x in k[i].split('-')]\n",
        "          d = 1\n",
        "          l.append(date(y2, m2, d))\n",
        "      reg_upto1.append('None')\n",
        "      reg_from1.append('None')\n",
        "      manu1.append(l[0].strftime('%d/%m/%Y'))\n",
        "  elif a == 3:\n",
        "    reg_upto1.append('None')\n",
        "    reg_from1.append('None')\n",
        "    manu1.append('None')"
      ],
      "execution_count": 0,
      "outputs": [
        {
          "output_type": "stream",
          "text": [
            "Image loaded /content/drive/My Drive/DATASETS/RC/txt_mudit_b11_11597.jpg\n",
            "Image loaded /content/drive/My Drive/DATASETS/RC/txt_mudit_b11_11599.jpg\n",
            "Image loaded /content/drive/My Drive/DATASETS/RC/txt_mudit_b11_12.jpg\n",
            "Image loaded /content/drive/My Drive/DATASETS/RC/txt_mudit_b11_1328.jpg\n",
            "Image loaded /content/drive/My Drive/DATASETS/RC/txt_mudit_b11_1332.jpg\n",
            "Image loaded /content/drive/My Drive/DATASETS/RC/txt_mudit_b11_1330.jpg\n",
            "Image loaded /content/drive/My Drive/DATASETS/RC/txt_mudit_b11_1334.jpg\n",
            "Image loaded /content/drive/My Drive/DATASETS/RC/txt_mudit_b11_1337.jpg\n",
            "Image loaded /content/drive/My Drive/DATASETS/RC/txt_mudit_b11_1339.jpg\n",
            "Image loaded /content/drive/My Drive/DATASETS/RC/txt_mudit_b11_1343.jpg\n",
            "Image loaded /content/drive/My Drive/DATASETS/RC/txt_mudit_b11_1347.jpg\n",
            "Image loaded /content/drive/My Drive/DATASETS/RC/txt_mudit_b11_1354.jpg\n",
            "Image loaded /content/drive/My Drive/DATASETS/RC/txt_mudit_b11_1361.jpg\n",
            "Image loaded /content/drive/My Drive/DATASETS/RC/txt_mudit_b11_1355.jpg\n",
            "Image loaded /content/drive/My Drive/DATASETS/RC/txt_mudit_b11_1363.jpg\n"
          ],
          "name": "stdout"
        }
      ]
    },
    {
      "cell_type": "code",
      "metadata": {
        "id": "6sTCZUyxufQg",
        "colab_type": "code",
        "outputId": "dbf74c5a-406e-4876-eb30-3a0e50aae438",
        "colab": {
          "base_uri": "https://localhost:8080/",
          "height": 269
        }
      },
      "source": [
        "reg_upto2=[]\n",
        "reg_from2=[]\n",
        "manu2=[]\n",
        "for main in range(15,30):\n",
        "  f = '/content/drive/My Drive/DATASETS/RC/'+data[main]\n",
        "  with open(f, 'rb') as file:\n",
        "    img_test = file.read()\n",
        "    bytes_test = bytearray(img_test)\n",
        "    print('Image loaded', f)\n",
        "  response = client8.analyze_document(Document={'Bytes': bytes_test}, FeatureTypes=[\"TABLES\",'FORMS'])\n",
        "  block=response['Blocks']\n",
        "  al=[]\n",
        "  for i in block:\n",
        "    if i['BlockType']=='WORD':\n",
        "      al.append(i['Text'])\n",
        "  k,a= date_finder(al)\n",
        "  l = []\n",
        "  if a == 1:\n",
        "    if len(k) == 3:\n",
        "      for i in range(len(k)):\n",
        "        if len(k[i])>7:\n",
        "          d1, m1, y1 = [int(x) for x in k[i].split('/')]\n",
        "          l.append(date(y1, m1, d1))\n",
        "        else:\n",
        "          m2, y2 = [int(x) for x in k[i].split('/')]\n",
        "          d = 1\n",
        "          l.append(date(y2, m2, d))\n",
        "      l.sort()\n",
        "      reg_upto2.append(l[-1].strftime('%d/%m/%Y'))\n",
        "      reg_from2.append(l[1].strftime('%d/%m/%Y'))\n",
        "      manu2.append(l[0].strftime('%d/%m/%Y'))\n",
        "    elif len(k) == 2:\n",
        "      for i in range(len(k)):\n",
        "        if len(k[i])>7:\n",
        "          d1, m1, y1 = [int(x) for x in k[i].split('/')]\n",
        "          l.append(date(y1, m1, d1))\n",
        "        else:\n",
        "          m2, y2 = [int(x) for x in k[i].split('/')]\n",
        "          d = 1\n",
        "          l.append(date(y2, m2, d))\n",
        "      l.sort()\n",
        "      if l[1]>datetime.today().date():\n",
        "        reg_upto2.append(l[1].strftime('%d/%m/%Y'))\n",
        "        reg_from2.append(l[0].strftime('%d/%m/%Y'))\n",
        "        manu2.append(None)\n",
        "      else:\n",
        "        reg_upto2.append('None')\n",
        "        reg_from2.append(l[1].strftime('%d/%m/%Y'))\n",
        "        manu2.append(l[0].strftime('%d/%m/%Y'))\n",
        "    else:\n",
        "      for i in range(len(k)):\n",
        "        if len(k[i])>7:\n",
        "          d1, m1, y1 = [int(x) for x in k[i].split('/')]\n",
        "          l.append(date(y1, m1, d1))\n",
        "        else:\n",
        "          m2, y2 = [int(x) for x in k[i].split('/')]\n",
        "          d = 1\n",
        "          l.append(date(y2, m2, d))\n",
        "      reg_upto2.append('None')\n",
        "      reg_from2.append('None')\n",
        "      manu2.append(l[0].strftime('%d/%m/%Y'))\n",
        "  elif a == 2:\n",
        "    if len(k) == 3:\n",
        "      for i in range(len(k)):\n",
        "        if len(k[i])>7:\n",
        "          d1, m1, y1 = [int(x) for x in k[i].split('-')]\n",
        "          l.append(date(y1, m1, d1))\n",
        "        else:\n",
        "          m2, y2 = [int(x) for x in k[i].split('-')]\n",
        "          d = 1\n",
        "          l.append(date(y2, m2, d))\n",
        "      l.sort()\n",
        "      reg_upto2.append(l[-1].strftime('%d/%m/%Y'))\n",
        "      reg_from2.append(l[1].strftime('%d/%m/%Y'))\n",
        "      manu2.append(l[0].strftime('%d/%m/%Y'))\n",
        "    elif len(k) == 2:\n",
        "      for i in range(len(k)):\n",
        "        if len(k[i])>7:\n",
        "          d1, m1, y1 = [int(x) for x in k[i].split('-')]\n",
        "          l.append(date(y1, m1, d1))\n",
        "        else:\n",
        "          m2, y2 = [int(x) for x in k[i].split('-')]\n",
        "          d = 1\n",
        "          l.append(date(y2, m2, d))\n",
        "      l.sort()\n",
        "      if l[1]>datetime.today().date():\n",
        "        reg_upto2.append(l[1].strftime('%d/%m/%Y'))\n",
        "        reg_from2.append(l[0].strftime('%d/%m/%Y'))\n",
        "        manu2.append(None)\n",
        "      else:\n",
        "        reg_upto2.append('None')\n",
        "        reg_from2.append(l[1].strftime('%d/%m/%Y'))\n",
        "        manu2.append(l[0].strftime('%d/%m/%Y'))\n",
        "    else:\n",
        "      for i in range(len(k)):\n",
        "        if len(k[i])>7:\n",
        "          d1, m1, y1 = [int(x) for x in k[i].split('-')]\n",
        "          l.append(date(y1, m1, d1))\n",
        "        else:\n",
        "          m2, y2 = [int(x) for x in k[i].split('-')]\n",
        "          d = 1\n",
        "          l.append(date(y2, m2, d))\n",
        "      reg_upto2.append('None')\n",
        "      reg_from2.append('None')\n",
        "      manu2.append(l[0].strftime('%d/%m/%Y'))\n",
        "  elif a == 3:\n",
        "    reg_upto2.append('None')\n",
        "    reg_from2.append('None')\n",
        "    manu2.append('None')"
      ],
      "execution_count": 0,
      "outputs": [
        {
          "output_type": "stream",
          "text": [
            "Image loaded /content/drive/My Drive/DATASETS/RC/txt_mudit_b11_1362.jpg\n",
            "Image loaded /content/drive/My Drive/DATASETS/RC/txt_mudit_b11_1365.jpg\n",
            "Image loaded /content/drive/My Drive/DATASETS/RC/txt_mudit_b11_1364.jpg\n",
            "Image loaded /content/drive/My Drive/DATASETS/RC/txt_mudit_b11_1369.jpg\n",
            "Image loaded /content/drive/My Drive/DATASETS/RC/txt_mudit_b11_1524.jpg\n",
            "Image loaded /content/drive/My Drive/DATASETS/RC/txt_mudit_b11_1529.jpg\n",
            "Image loaded /content/drive/My Drive/DATASETS/RC/txt_mudit_b11_1534.jpg\n",
            "Image loaded /content/drive/My Drive/DATASETS/RC/txt_mudit_b11_1536.jpg\n",
            "Image loaded /content/drive/My Drive/DATASETS/RC/txt_mudit_b11_1535.jpg\n",
            "Image loaded /content/drive/My Drive/DATASETS/RC/txt_mudit_b11_1539.jpg\n",
            "Image loaded /content/drive/My Drive/DATASETS/RC/txt_mudit_b11_439.jpg\n",
            "Image loaded /content/drive/My Drive/DATASETS/RC/txt_mudit_b11_746.jpg\n",
            "Image loaded /content/drive/My Drive/DATASETS/RC/txt_mudit_b11_961.jpg\n",
            "Image loaded /content/drive/My Drive/DATASETS/RC/txt_mudit_b11_480.jpg\n",
            "Image loaded /content/drive/My Drive/DATASETS/RC/txt_mudit_b8_1_513.jpg\n"
          ],
          "name": "stdout"
        }
      ]
    },
    {
      "cell_type": "code",
      "metadata": {
        "id": "z2C-be6RuxfY",
        "colab_type": "code",
        "outputId": "9c77c252-8c3c-44a5-ebe8-a1081ac46763",
        "colab": {
          "base_uri": "https://localhost:8080/",
          "height": 286
        }
      },
      "source": [
        "reg_upto3=[]\n",
        "reg_from3=[]\n",
        "manu3=[]\n",
        "for main in range(30,46):\n",
        "  f = '/content/drive/My Drive/DATASETS/RC/'+data[main]\n",
        "  with open(f, 'rb') as file:\n",
        "    img_test = file.read()\n",
        "    bytes_test = bytearray(img_test)\n",
        "    print('Image loaded', f)\n",
        "  response = client9.analyze_document(Document={'Bytes': bytes_test}, FeatureTypes=[\"TABLES\",'FORMS'])\n",
        "  block=response['Blocks']\n",
        "  al=[]\n",
        "  for i in block:\n",
        "    if i['BlockType']=='WORD':\n",
        "      al.append(i['Text'])\n",
        "  k,a= date_finder(al)\n",
        "  l = []\n",
        "  if a == 1:\n",
        "    if len(k) == 3:\n",
        "      for i in range(len(k)):\n",
        "        if len(k[i])>7:\n",
        "          d1, m1, y1 = [int(x) for x in k[i].split('/')]\n",
        "          l.append(date(y1, m1, d1))\n",
        "        else:\n",
        "          m2, y2 = [int(x) for x in k[i].split('/')]\n",
        "          d = 1\n",
        "          l.append(date(y2, m2, d))\n",
        "      l.sort()\n",
        "      reg_upto3.append(l[-1].strftime('%d/%m/%Y'))\n",
        "      reg_from3.append(l[1].strftime('%d/%m/%Y'))\n",
        "      manu3.append(l[0].strftime('%d/%m/%Y'))\n",
        "    elif len(k) == 2:\n",
        "      for i in range(len(k)):\n",
        "        if len(k[i])>7:\n",
        "          d1, m1, y1 = [int(x) for x in k[i].split('/')]\n",
        "          l.append(date(y1, m1, d1))\n",
        "        else:\n",
        "          m2, y2 = [int(x) for x in k[i].split('/')]\n",
        "          d = 1\n",
        "          l.append(date(y2, m2, d))\n",
        "      l.sort()\n",
        "      if l[1]>datetime.today().date():\n",
        "        reg_upto3.append(l[1].strftime('%d/%m/%Y'))\n",
        "        reg_from3.append(l[0].strftime('%d/%m/%Y'))\n",
        "        manu3.append(None)\n",
        "      else:\n",
        "        reg_upto3.append('None')\n",
        "        reg_from3.append(l[1].strftime('%d/%m/%Y'))\n",
        "        manu3.append(l[0].strftime('%d/%m/%Y'))\n",
        "    else:\n",
        "      for i in range(len(k)):\n",
        "        if len(k[i])>7:\n",
        "          d1, m1, y1 = [int(x) for x in k[i].split('/')]\n",
        "          l.append(date(y1, m1, d1))\n",
        "        else:\n",
        "          m2, y2 = [int(x) for x in k[i].split('/')]\n",
        "          d = 1\n",
        "          l.append(date(y2, m2, d))\n",
        "      reg_upto3.append('None')\n",
        "      reg_from3.append('None')\n",
        "      manu3.append(l[0].strftime('%d/%m/%Y'))\n",
        "  elif a == 2:\n",
        "    if len(k) == 3:\n",
        "      for i in range(len(k)):\n",
        "        if len(k[i])>7:\n",
        "          d1, m1, y1 = [int(x) for x in k[i].split('-')]\n",
        "          l.append(date(y1, m1, d1))\n",
        "        else:\n",
        "          m2, y2 = [int(x) for x in k[i].split('-')]\n",
        "          d = 1\n",
        "          l.append(date(y2, m2, d))\n",
        "      l.sort()\n",
        "      reg_upto3.append(l[-1].strftime('%d/%m/%Y'))\n",
        "      reg_from3.append(l[1].strftime('%d/%m/%Y'))\n",
        "      manu3.append(l[0].strftime('%d/%m/%Y'))\n",
        "    elif len(k) == 2:\n",
        "      for i in range(len(k)):\n",
        "        if len(k[i])>7:\n",
        "          d1, m1, y1 = [int(x) for x in k[i].split('-')]\n",
        "          l.append(date(y1, m1, d1))\n",
        "        else:\n",
        "          m2, y2 = [int(x) for x in k[i].split('-')]\n",
        "          d = 1\n",
        "          l.append(date(y2, m2, d))\n",
        "      l.sort()\n",
        "      if l[1]>datetime.today().date():\n",
        "        reg_upto3.append(l[1].strftime('%d/%m/%Y'))\n",
        "        reg_from3.append(l[0].strftime('%d/%m/%Y'))\n",
        "        manu3.append(None)\n",
        "      else:\n",
        "        reg_upto3.append('None')\n",
        "        reg_from3.append(l[1].strftime('%d/%m/%Y'))\n",
        "        manu3.append(l[0].strftime('%d/%m/%Y'))\n",
        "    else:\n",
        "      for i in range(len(k)):\n",
        "        if len(k[i])>7:\n",
        "          d1, m1, y1 = [int(x) for x in k[i].split('-')]\n",
        "          l.append(date(y1, m1, d1))\n",
        "        else:\n",
        "          m2, y2 = [int(x) for x in k[i].split('-')]\n",
        "          d = 1\n",
        "          l.append(date(y2, m2, d))\n",
        "      reg_upto3.append('None')\n",
        "      reg_from3.append('None')\n",
        "      manu3.append(l[0].strftime('%d/%m/%Y'))\n",
        "  elif a == 3:\n",
        "    reg_upto3.append('None')\n",
        "    reg_from3.append('None')\n",
        "    manu3.append('None')"
      ],
      "execution_count": 0,
      "outputs": [
        {
          "output_type": "stream",
          "text": [
            "Image loaded /content/drive/My Drive/DATASETS/RC/txt_mudit_b8_1_740.jpg\n",
            "Image loaded /content/drive/My Drive/DATASETS/RC/txt_mudit_b8_1_742.jpg\n",
            "Image loaded /content/drive/My Drive/DATASETS/RC/txt_mudit_b8_1_741.jpg\n",
            "Image loaded /content/drive/My Drive/DATASETS/RC/txt_mudit_b8_1_545.jpg\n",
            "Image loaded /content/drive/My Drive/DATASETS/RC/txt_mudit_b8_1_546.jpg\n",
            "Image loaded /content/drive/My Drive/DATASETS/RC/txt_mudit_b8_1_554.jpg\n",
            "Image loaded /content/drive/My Drive/DATASETS/RC/txt_mudit_b8_1_555.jpg\n",
            "Image loaded /content/drive/My Drive/DATASETS/RC/txt_mudit_b8_1_571.jpg\n",
            "Image loaded /content/drive/My Drive/DATASETS/RC/txt_mudit_b8_1_574.jpg\n",
            "Image loaded /content/drive/My Drive/DATASETS/RC/txt_mudit_b8_1_573.jpg\n",
            "Image loaded /content/drive/My Drive/DATASETS/RC/txt_mudit_b8_1_806.jpg\n",
            "Image loaded /content/drive/My Drive/DATASETS/RC/txt_mudit_b8_1_807.jpg\n",
            "Image loaded /content/drive/My Drive/DATASETS/RC/txt_mudit_b8_1_808.jpg\n",
            "Image loaded /content/drive/My Drive/DATASETS/RC/txt_mudit_b8_1_854.jpg\n",
            "Image loaded /content/drive/My Drive/DATASETS/RC/txt_mudit_b8_1_855.jpg\n",
            "Image loaded /content/drive/My Drive/DATASETS/RC/txt_mudit_b8_2_213.jpg\n"
          ],
          "name": "stdout"
        }
      ]
    },
    {
      "cell_type": "code",
      "metadata": {
        "id": "ID8X-McWu6xX",
        "colab_type": "code",
        "colab": {}
      },
      "source": [
        "reg_upto=reg_upto1+reg_upto2+reg_upto3\n",
        "reg_from=reg_from1+reg_from2+reg_from3\n",
        "menu=manu1+manu2+manu3"
      ],
      "execution_count": 0,
      "outputs": []
    },
    {
      "cell_type": "code",
      "metadata": {
        "id": "iZHl5w3Qu9DW",
        "colab_type": "code",
        "outputId": "3d490729-be2d-4995-cf58-7d28a749a838",
        "colab": {
          "base_uri": "https://localhost:8080/",
          "height": 34
        }
      },
      "source": [
        "len(reg_upto)"
      ],
      "execution_count": 0,
      "outputs": [
        {
          "output_type": "execute_result",
          "data": {
            "text/plain": [
              "46"
            ]
          },
          "metadata": {
            "tags": []
          },
          "execution_count": 47
        }
      ]
    },
    {
      "cell_type": "code",
      "metadata": {
        "id": "HXmFtycRu_J9",
        "colab_type": "code",
        "outputId": "6af02d5e-5e90-427d-93d1-f4db101fc574",
        "colab": {
          "base_uri": "https://localhost:8080/",
          "height": 34
        }
      },
      "source": [
        "len(reg_from)"
      ],
      "execution_count": 0,
      "outputs": [
        {
          "output_type": "execute_result",
          "data": {
            "text/plain": [
              "46"
            ]
          },
          "metadata": {
            "tags": []
          },
          "execution_count": 48
        }
      ]
    },
    {
      "cell_type": "code",
      "metadata": {
        "id": "wRsEy6jIvBJc",
        "colab_type": "code",
        "outputId": "aaf7edbc-8f90-4d38-d3b4-2118c9aa7d8d",
        "colab": {
          "base_uri": "https://localhost:8080/",
          "height": 34
        }
      },
      "source": [
        "len(menu)"
      ],
      "execution_count": 0,
      "outputs": [
        {
          "output_type": "execute_result",
          "data": {
            "text/plain": [
              "46"
            ]
          },
          "metadata": {
            "tags": []
          },
          "execution_count": 49
        }
      ]
    },
    {
      "cell_type": "markdown",
      "metadata": {
        "id": "UPNc8DRBDvQm",
        "colab_type": "text"
      },
      "source": [
        "# EXTRACTING CHASIS NO. & REGISTRATION NO."
      ]
    },
    {
      "cell_type": "code",
      "metadata": {
        "id": "Ubp09HXjvyw-",
        "colab_type": "code",
        "outputId": "1ffcd2b8-3c03-46a2-b4dd-8e6d2868c50b",
        "colab": {
          "base_uri": "https://localhost:8080/",
          "height": 269
        }
      },
      "source": [
        "reg=[]\n",
        "ch=[]\n",
        "chas=['Chasis', 'CH', 'chasis', 'ch']\n",
        "code=['DL','HR']\n",
        "for main in range(15):\n",
        "  f = '/content/drive/My Drive/DATASETS/RC/'+data[main]\n",
        "  with open(f, 'rb') as file:\n",
        "    img_test = file.read()\n",
        "    bytes_test = bytearray(img_test)\n",
        "    print('Image loaded', f)\n",
        "  response = client11.analyze_document(Document={'Bytes': bytes_test}, FeatureTypes=[\"TABLES\",'FORMS'])\n",
        "  al=[]\n",
        "  w=response['Blocks']\n",
        "  for block in w:\n",
        "    if block['BlockType']=='LINE':\n",
        "      al.append(block['Text'])\n",
        "  for i in range(len(al)):\n",
        "    if al[i][:10]=='REGN NO : ' or al[i][:9]=='REGN NO :' or al[i][:9]=='REGN NO: ' or al[i][:8]=='REGN NO:' or al[i][:7]=='REGN NO' or al[i][:8]=='REGN NO ':\n",
        "      for cod in range(len(code)):\n",
        "        if al[i][10:12]==code[cod]:\n",
        "          reg.append(al[i][10:])\n",
        "        elif al[i][9:11]==code[cod]:\n",
        "          reg.append(al[i][9:])\n",
        "        elif al[i][8:10]==code[cod]:\n",
        "          reg.append(al[i][8:])\n",
        "        elif al[i][7:9]==code[cod]:\n",
        "          reg.append(al[i][7:])\n",
        "    for cod in range(len(code)):\n",
        "      if al[i][:2]==code[cod]:\n",
        "        reg.append(al[i])\n",
        "    if al[i][:17]=='Registration No. ' or al[i][:16]=='Registration No.' or al[i][:15]=='Registration No':\n",
        "      for cod in range(len(code)):\n",
        "        if al[i][17:19]==code[cod]:\n",
        "          reg.append(al[i][17:])\n",
        "        elif al[i][16:18]==code[cod]:\n",
        "          reg.append(al[i][16:])\n",
        "        elif al[i][15:17]==code[cod]:\n",
        "          reg.append(al[i][15:])\n",
        "    if len(al[i][:9])>7:\n",
        "      if al[i][:4]=='REGN':\n",
        "        st=al[i].split('N0')[-1].split(':')[-1]\n",
        "        reg.append(st)\n",
        "    if al[i][:6]=='CH. NO':\n",
        "      if len(al[i][7:])==17 or len(al[i][7:])==16 or len(al[i][7:])==15 or len(al[i][7:])==14 or len(al[i][7:])==13 or len(al[i][7:])==12 or len(al[i][7:])==11 and al[i][7:].isalnum()==True:\n",
        "        ch.append(al[i][7:])\n",
        "    elif al[i][:10]=='Chasis No':\n",
        "      if len(al[i][11:])==17 or len(al[i][7:])==16 or len(al[i][7:])==15 or len(al[i][7:])==14 or len(al[i][7:])==13 or len(al[i][7:])==12 or len(al[i][7:])==11 and al[i][11:].isalnum()==True:\n",
        "        ch.append(al[i][11:])\n",
        "    elif len(al[i])==19 or len(al[i])==18 or len(al[i])==17 or len(al[i])==16 or len(al[i])==15 or len(al[i])==14 or len(al[i])==13:\n",
        "      if al[i][:17].isalnum()==True:\n",
        "        ch.append(al[i])\n",
        "    elif al[i][:2]=='No':\n",
        "      if len(al[i][2:])==17:\n",
        "        ch.append(al[i][2:])"
      ],
      "execution_count": 0,
      "outputs": [
        {
          "output_type": "stream",
          "text": [
            "Image loaded /content/drive/My Drive/DATASETS/RC/txt_mudit_b11_11597.jpg\n",
            "Image loaded /content/drive/My Drive/DATASETS/RC/txt_mudit_b11_11599.jpg\n",
            "Image loaded /content/drive/My Drive/DATASETS/RC/txt_mudit_b11_12.jpg\n",
            "Image loaded /content/drive/My Drive/DATASETS/RC/txt_mudit_b11_1328.jpg\n",
            "Image loaded /content/drive/My Drive/DATASETS/RC/txt_mudit_b11_1332.jpg\n",
            "Image loaded /content/drive/My Drive/DATASETS/RC/txt_mudit_b11_1330.jpg\n",
            "Image loaded /content/drive/My Drive/DATASETS/RC/txt_mudit_b11_1334.jpg\n",
            "Image loaded /content/drive/My Drive/DATASETS/RC/txt_mudit_b11_1337.jpg\n",
            "Image loaded /content/drive/My Drive/DATASETS/RC/txt_mudit_b11_1339.jpg\n",
            "Image loaded /content/drive/My Drive/DATASETS/RC/txt_mudit_b11_1343.jpg\n",
            "Image loaded /content/drive/My Drive/DATASETS/RC/txt_mudit_b11_1347.jpg\n",
            "Image loaded /content/drive/My Drive/DATASETS/RC/txt_mudit_b11_1354.jpg\n",
            "Image loaded /content/drive/My Drive/DATASETS/RC/txt_mudit_b11_1361.jpg\n",
            "Image loaded /content/drive/My Drive/DATASETS/RC/txt_mudit_b11_1355.jpg\n",
            "Image loaded /content/drive/My Drive/DATASETS/RC/txt_mudit_b11_1363.jpg\n"
          ],
          "name": "stdout"
        }
      ]
    },
    {
      "cell_type": "code",
      "metadata": {
        "id": "E816ZfLUxK6C",
        "colab_type": "code",
        "outputId": "bb55c53e-05eb-4d90-9a61-f38006c20042",
        "colab": {
          "base_uri": "https://localhost:8080/",
          "height": 370
        }
      },
      "source": [
        "reg1=[]\n",
        "ch1=[]\n",
        "chas=['Chasis', 'CH', 'chasis', 'ch']\n",
        "code=['DL','HR']\n",
        "for main in range(15,36):\n",
        "  f = '/content/drive/My Drive/DATASETS/RC/'+data[main]\n",
        "  with open(f, 'rb') as file:\n",
        "    img_test = file.read()\n",
        "    bytes_test = bytearray(img_test)\n",
        "    print('Image loaded', f)\n",
        "  response = client12.analyze_document(Document={'Bytes': bytes_test}, FeatureTypes=[\"TABLES\",'FORMS'])\n",
        "  al=[]\n",
        "  w=response['Blocks']\n",
        "  for block in w:\n",
        "    if block['BlockType']=='LINE':\n",
        "      al.append(block['Text'])\n",
        "  for i in range(len(al)):\n",
        "    if al[i][:10]=='REGN NO : ' or al[i][:9]=='REGN NO :' or al[i][:9]=='REGN NO: ' or al[i][:8]=='REGN NO:' or al[i][:7]=='REGN NO' or al[i][:8]=='REGN NO ':\n",
        "      for cod in range(len(code)):\n",
        "        if al[i][10:12]==code[cod]:\n",
        "          reg1.append(al[i][10:])\n",
        "        elif al[i][9:11]==code[cod]:\n",
        "          reg1.append(al[i][9:])\n",
        "        elif al[i][8:10]==code[cod]:\n",
        "          reg1.append(al[i][8:])\n",
        "        elif al[i][7:9]==code[cod]:\n",
        "          reg1.append(al[i][7:])\n",
        "    for cod in range(len(code)):\n",
        "      if al[i][:2]==code[cod]:\n",
        "        reg1.append(al[i])\n",
        "    if al[i][:17]=='Registration No. ' or al[i][:16]=='Registration No.' or al[i][:15]=='Registration No':\n",
        "      for cod in range(len(code)):\n",
        "        if al[i][17:19]==code[cod]:\n",
        "          reg1.append(al[i][17:])\n",
        "        elif al[i][16:18]==code[cod]:\n",
        "          reg1.append(al[i][16:])\n",
        "        elif al[i][15:17]==code[cod]:\n",
        "          reg1.append(al[i][15:])\n",
        "    if len(al[i][:9])>7:\n",
        "      if al[i][:4]=='REGN':\n",
        "        st=al[i].split('N0')[-1].split(':')[-1]\n",
        "        reg1.append(st)\n",
        "    if al[i][:6]=='CH. NO':\n",
        "      if len(al[i][7:])==17 or len(al[i][7:])==16 or len(al[i][7:])==15 or len(al[i][7:])==14 or len(al[i][7:])==13 or len(al[i][7:])==12 or len(al[i][7:])==11 and al[i][7:].isalnum()==True:\n",
        "        ch1.append(al[i][7:])\n",
        "    elif al[i][:10]=='Chasis No':\n",
        "      if len(al[i][11:])==17 or len(al[i][7:])==16 or len(al[i][7:])==15 or len(al[i][7:])==14 or len(al[i][7:])==13 or len(al[i][7:])==12 or len(al[i][7:])==11 and al[i][11:].isalnum()==True:\n",
        "        ch1.append(al[i][11:])\n",
        "    elif len(al[i])==19 or len(al[i])==18 or len(al[i])==17 or len(al[i])==16 or len(al[i])==15 or len(al[i])==14 or len(al[i])==13:\n",
        "      if al[i][:17].isalnum()==True:\n",
        "        ch1.append(al[i])\n",
        "    elif al[i][:2]=='No':\n",
        "      if len(al[i][2:])==17:\n",
        "        ch1.append(al[i][2:])"
      ],
      "execution_count": 0,
      "outputs": [
        {
          "output_type": "stream",
          "text": [
            "Image loaded /content/drive/My Drive/DATASETS/RC/txt_mudit_b11_1362.jpg\n",
            "Image loaded /content/drive/My Drive/DATASETS/RC/txt_mudit_b11_1365.jpg\n",
            "Image loaded /content/drive/My Drive/DATASETS/RC/txt_mudit_b11_1364.jpg\n",
            "Image loaded /content/drive/My Drive/DATASETS/RC/txt_mudit_b11_1369.jpg\n",
            "Image loaded /content/drive/My Drive/DATASETS/RC/txt_mudit_b11_1524.jpg\n",
            "Image loaded /content/drive/My Drive/DATASETS/RC/txt_mudit_b11_1529.jpg\n",
            "Image loaded /content/drive/My Drive/DATASETS/RC/txt_mudit_b11_1534.jpg\n",
            "Image loaded /content/drive/My Drive/DATASETS/RC/txt_mudit_b11_1536.jpg\n",
            "Image loaded /content/drive/My Drive/DATASETS/RC/txt_mudit_b11_1535.jpg\n",
            "Image loaded /content/drive/My Drive/DATASETS/RC/txt_mudit_b11_1539.jpg\n",
            "Image loaded /content/drive/My Drive/DATASETS/RC/txt_mudit_b11_439.jpg\n",
            "Image loaded /content/drive/My Drive/DATASETS/RC/txt_mudit_b11_746.jpg\n",
            "Image loaded /content/drive/My Drive/DATASETS/RC/txt_mudit_b11_961.jpg\n",
            "Image loaded /content/drive/My Drive/DATASETS/RC/txt_mudit_b11_480.jpg\n",
            "Image loaded /content/drive/My Drive/DATASETS/RC/txt_mudit_b8_1_513.jpg\n",
            "Image loaded /content/drive/My Drive/DATASETS/RC/txt_mudit_b8_1_740.jpg\n",
            "Image loaded /content/drive/My Drive/DATASETS/RC/txt_mudit_b8_1_742.jpg\n",
            "Image loaded /content/drive/My Drive/DATASETS/RC/txt_mudit_b8_1_741.jpg\n",
            "Image loaded /content/drive/My Drive/DATASETS/RC/txt_mudit_b8_1_545.jpg\n",
            "Image loaded /content/drive/My Drive/DATASETS/RC/txt_mudit_b8_1_546.jpg\n",
            "Image loaded /content/drive/My Drive/DATASETS/RC/txt_mudit_b8_1_554.jpg\n"
          ],
          "name": "stdout"
        }
      ]
    },
    {
      "cell_type": "code",
      "metadata": {
        "id": "PNGqsGtmx5Wl",
        "colab_type": "code",
        "outputId": "9755fbdf-9dd3-4451-b7ae-0090128296e0",
        "colab": {
          "base_uri": "https://localhost:8080/",
          "height": 370
        }
      },
      "source": [
        "reg2=[]\n",
        "ch2=[]\n",
        "chas=['Chasis', 'CH', 'chasis', 'ch']\n",
        "code=['DL','HR']\n",
        "for main in range(15,36):\n",
        "  f = '/content/drive/My Drive/DATASETS/RC/'+data[main]\n",
        "  with open(f, 'rb') as file:\n",
        "    img_test = file.read()\n",
        "    bytes_test = bytearray(img_test)\n",
        "    print('Image loaded', f)\n",
        "  response = client13.analyze_document(Document={'Bytes': bytes_test}, FeatureTypes=[\"TABLES\",'FORMS'])\n",
        "  al=[]\n",
        "  w=response['Blocks']\n",
        "  for block in w:\n",
        "    if block['BlockType']=='LINE':\n",
        "      al.append(block['Text'])\n",
        "  for i in range(len(al)):\n",
        "    if al[i][:10]=='REGN NO : ' or al[i][:9]=='REGN NO :' or al[i][:9]=='REGN NO: ' or al[i][:8]=='REGN NO:' or al[i][:7]=='REGN NO' or al[i][:8]=='REGN NO ':\n",
        "      for cod in range(len(code)):\n",
        "        if al[i][10:12]==code[cod]:\n",
        "          reg2.append(al[i][10:])\n",
        "        elif al[i][9:11]==code[cod]:\n",
        "          reg2.append(al[i][9:])\n",
        "        elif al[i][8:10]==code[cod]:\n",
        "          reg2.append(al[i][8:])\n",
        "        elif al[i][7:9]==code[cod]:\n",
        "          reg2.append(al[i][7:])\n",
        "    for cod in range(len(code)):\n",
        "      if al[i][:2]==code[cod]:\n",
        "        reg2.append(al[i])\n",
        "    if al[i][:17]=='Registration No. ' or al[i][:16]=='Registration No.' or al[i][:15]=='Registration No':\n",
        "      for cod in range(len(code)):\n",
        "        if al[i][17:19]==code[cod]:\n",
        "          reg2.append(al[i][17:])\n",
        "        elif al[i][16:18]==code[cod]:\n",
        "          reg2.append(al[i][16:])\n",
        "        elif al[i][15:17]==code[cod]:\n",
        "          reg2.append(al[i][15:])\n",
        "    if len(al[i][:9])>7:\n",
        "      if al[i][:4]=='REGN':\n",
        "        st=al[i].split('N0')[-1].split(':')[-1]\n",
        "        reg2.append(st)\n",
        "    if al[i][:6]=='CH. NO':\n",
        "      if len(al[i][7:])==17 or len(al[i][7:])==16 or len(al[i][7:])==15 or len(al[i][7:])==14 or len(al[i][7:])==13 or len(al[i][7:])==12 or len(al[i][7:])==11 and al[i][7:].isalnum()==True:\n",
        "        ch2.append(al[i][7:])\n",
        "    elif al[i][:10]=='Chasis No':\n",
        "      if len(al[i][11:])==17 or len(al[i][7:])==16 or len(al[i][7:])==15 or len(al[i][7:])==14 or len(al[i][7:])==13 or len(al[i][7:])==12 or len(al[i][7:])==11 and al[i][11:].isalnum()==True:\n",
        "        ch2.append(al[i][11:])\n",
        "    elif len(al[i])==19 or len(al[i])==18 or len(al[i])==17 or len(al[i])==16 or len(al[i])==15 or len(al[i])==14 or len(al[i])==13:\n",
        "      if al[i][:17].isalnum()==True:\n",
        "        ch2.append(al[i])\n",
        "    elif al[i][:2]=='No':\n",
        "      if len(al[i][2:])==17:\n",
        "        ch2.append(al[i][2:])"
      ],
      "execution_count": 0,
      "outputs": [
        {
          "output_type": "stream",
          "text": [
            "Image loaded /content/drive/My Drive/DATASETS/RC/txt_mudit_b11_1362.jpg\n",
            "Image loaded /content/drive/My Drive/DATASETS/RC/txt_mudit_b11_1365.jpg\n",
            "Image loaded /content/drive/My Drive/DATASETS/RC/txt_mudit_b11_1364.jpg\n",
            "Image loaded /content/drive/My Drive/DATASETS/RC/txt_mudit_b11_1369.jpg\n",
            "Image loaded /content/drive/My Drive/DATASETS/RC/txt_mudit_b11_1524.jpg\n",
            "Image loaded /content/drive/My Drive/DATASETS/RC/txt_mudit_b11_1529.jpg\n",
            "Image loaded /content/drive/My Drive/DATASETS/RC/txt_mudit_b11_1534.jpg\n",
            "Image loaded /content/drive/My Drive/DATASETS/RC/txt_mudit_b11_1536.jpg\n",
            "Image loaded /content/drive/My Drive/DATASETS/RC/txt_mudit_b11_1535.jpg\n",
            "Image loaded /content/drive/My Drive/DATASETS/RC/txt_mudit_b11_1539.jpg\n",
            "Image loaded /content/drive/My Drive/DATASETS/RC/txt_mudit_b11_439.jpg\n",
            "Image loaded /content/drive/My Drive/DATASETS/RC/txt_mudit_b11_746.jpg\n",
            "Image loaded /content/drive/My Drive/DATASETS/RC/txt_mudit_b11_961.jpg\n",
            "Image loaded /content/drive/My Drive/DATASETS/RC/txt_mudit_b11_480.jpg\n",
            "Image loaded /content/drive/My Drive/DATASETS/RC/txt_mudit_b8_1_513.jpg\n",
            "Image loaded /content/drive/My Drive/DATASETS/RC/txt_mudit_b8_1_740.jpg\n",
            "Image loaded /content/drive/My Drive/DATASETS/RC/txt_mudit_b8_1_742.jpg\n",
            "Image loaded /content/drive/My Drive/DATASETS/RC/txt_mudit_b8_1_741.jpg\n",
            "Image loaded /content/drive/My Drive/DATASETS/RC/txt_mudit_b8_1_545.jpg\n",
            "Image loaded /content/drive/My Drive/DATASETS/RC/txt_mudit_b8_1_546.jpg\n",
            "Image loaded /content/drive/My Drive/DATASETS/RC/txt_mudit_b8_1_554.jpg\n"
          ],
          "name": "stdout"
        }
      ]
    },
    {
      "cell_type": "code",
      "metadata": {
        "id": "FSdN3gs36X1u",
        "colab_type": "code",
        "outputId": "98e80d26-9ccc-46cf-844f-12919e076e3e",
        "colab": {
          "base_uri": "https://localhost:8080/",
          "height": 34
        }
      },
      "source": [
        "len(ch2)"
      ],
      "execution_count": 0,
      "outputs": [
        {
          "output_type": "execute_result",
          "data": {
            "text/plain": [
              "16"
            ]
          },
          "metadata": {
            "tags": []
          },
          "execution_count": 69
        }
      ]
    },
    {
      "cell_type": "code",
      "metadata": {
        "id": "1ghqtKdDzXap",
        "colab_type": "code",
        "colab": {}
      },
      "source": [
        "chasis=ch+ch1+ch2\n",
        "reg_no=reg+reg1+reg2"
      ],
      "execution_count": 0,
      "outputs": []
    },
    {
      "cell_type": "markdown",
      "metadata": {
        "id": "BzC79rZhEKpe",
        "colab_type": "text"
      },
      "source": [
        "# CREATING DICTIONARIES"
      ]
    },
    {
      "cell_type": "code",
      "metadata": {
        "id": "c0tuD1g0wYwV",
        "colab_type": "code",
        "colab": {}
      },
      "source": [
        "import pandas as pd\n",
        "dict1={'Chasis no.': chasis}\n",
        "dict2={'Registration no.': reg_no}\n",
        "dict3={'Manufacture date': menu,'Reg_upto': reg_upto,'reg_from': reg_from}\n",
        "dict4={'Name':nm}\n",
        "dict5={'Engine no': engine}"
      ],
      "execution_count": 0,
      "outputs": []
    },
    {
      "cell_type": "markdown",
      "metadata": {
        "id": "IvMw-7IiEUUm",
        "colab_type": "text"
      },
      "source": [
        "# CREATING DATAFRAMES"
      ]
    },
    {
      "cell_type": "code",
      "metadata": {
        "id": "Mm7ujsQC9Rx_",
        "colab_type": "code",
        "colab": {}
      },
      "source": [
        "df1=pd.DataFrame(dict1)\n",
        "df2 = pd.DataFrame(dict2)\n",
        "df3= pd.DataFrame(dict3)\n",
        "df4= pd.DataFrame(dict4)\n",
        "df5= pd.DataFrame(dict5)"
      ],
      "execution_count": 0,
      "outputs": []
    },
    {
      "cell_type": "markdown",
      "metadata": {
        "id": "vnyDgO6QEYKT",
        "colab_type": "text"
      },
      "source": [
        "# CONVERTING DATAFRAMES TO EXCEL FILE"
      ]
    },
    {
      "cell_type": "code",
      "metadata": {
        "id": "7Mt8_vwHyVT9",
        "colab_type": "code",
        "colab": {}
      },
      "source": [
        "df1.to_excel(\"output1.xlsx\")\n",
        "df2.to_excel(\"output2.xlsx\")\n",
        "df3.to_excel(\"output3.xlsx\")\n",
        "df4.to_excel(\"output4.xlsx\")\n",
        "df5.to_excel(\"output5.xlsx\")"
      ],
      "execution_count": 0,
      "outputs": []
    },
    {
      "cell_type": "code",
      "metadata": {
        "id": "swGVrix3-isq",
        "colab_type": "code",
        "colab": {}
      },
      "source": [
        ""
      ],
      "execution_count": 0,
      "outputs": []
    }
  ]
}